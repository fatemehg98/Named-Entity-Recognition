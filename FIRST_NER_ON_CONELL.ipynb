{
  "nbformat": 4,
  "nbformat_minor": 0,
  "metadata": {
    "colab": {
      "name": "FIRST NER ON CONELL.ipynb",
      "provenance": [],
      "collapsed_sections": [],
      "authorship_tag": "ABX9TyOGWBJvFJ7LyYMUUgCbeEle",
      "include_colab_link": true
    },
    "kernelspec": {
      "name": "python3",
      "display_name": "Python 3"
    },
    "language_info": {
      "name": "python"
    },
    "accelerator": "GPU"
  },
  "cells": [
    {
      "cell_type": "markdown",
      "metadata": {
        "id": "view-in-github",
        "colab_type": "text"
      },
      "source": [
        "<a href=\"https://colab.research.google.com/github/fatemehg98/first-git/blob/master/FIRST_NER_ON_CONELL.ipynb\" target=\"_parent\"><img src=\"https://colab.research.google.com/assets/colab-badge.svg\" alt=\"Open In Colab\"/></a>"
      ]
    },
    {
      "cell_type": "code",
      "metadata": {
        "id": "gNxK5ReCpMo4"
      },
      "source": [
        "pip install NERDA"
      ],
      "execution_count": null,
      "outputs": []
    },
    {
      "cell_type": "code",
      "metadata": {
        "id": "TgjR5bt4qB5R",
        "colab": {
          "base_uri": "https://localhost:8080/"
        },
        "outputId": "9ec742c9-b991-4a22-da5b-a8e9e54ec3b2"
      },
      "source": [
        "'CONLL'\n",
        "from NERDA.datasets import get_conll_data, download_conll_data\n",
        "download_conll_data()\n",
        "training = get_conll_data('train')\n",
        "validation = get_conll_data('valid')"
      ],
      "execution_count": 2,
      "outputs": [
        {
          "output_type": "stream",
          "name": "stdout",
          "text": [
            "Reading https://data.deepai.org/conll2003.zip\n"
          ]
        }
      ]
    },
    {
      "cell_type": "code",
      "metadata": {
        "colab": {
          "base_uri": "https://localhost:8080/"
        },
        "id": "1ZgWhgH3uXwC",
        "outputId": "2c942b2a-5c5f-4982-f146-e9a98ab13277"
      },
      "source": [
        "training.keys()"
      ],
      "execution_count": 6,
      "outputs": [
        {
          "output_type": "execute_result",
          "data": {
            "text/plain": [
              "dict_keys(['sentences', 'tags'])"
            ]
          },
          "metadata": {},
          "execution_count": 6
        }
      ]
    },
    {
      "cell_type": "code",
      "metadata": {
        "id": "knYClvbTqSm-"
      },
      "source": [
        "tag_scheme = [\n",
        "'B-PER',\n",
        "'I-PER',\n",
        "'B-ORG',\n",
        "'I-ORG',\n",
        "'B-LOC',\n",
        "'I-LOC',\n",
        "'B-MISC',\n",
        "'I-MISC'\n",
        "]"
      ],
      "execution_count": 7,
      "outputs": []
    },
    {
      "cell_type": "code",
      "metadata": {
        "id": "anWspdahrWHL"
      },
      "source": [
        "transformer = 'bert-base-multilingual-uncased'"
      ],
      "execution_count": 8,
      "outputs": []
    },
    {
      "cell_type": "code",
      "metadata": {
        "id": "-UxwOxhrrbJc"
      },
      "source": [
        "# hyperparameters for network\n",
        "dropout = 0.1\n",
        "# hyperparameters for training\n",
        "training_hyperparameters = {\n",
        "'epochs' : 1,\n",
        "'warmup_steps' : 500,\n",
        "'train_batch_size': 13, \n",
        "'learning_rate': 0.0001\n",
        "}"
      ],
      "execution_count": 9,
      "outputs": []
    },
    {
      "cell_type": "code",
      "metadata": {
        "id": "Qgmfypemr68q"
      },
      "source": [
        "from NERDA.models import NERDA\n",
        "model = NERDA(\n",
        "dataset_training = training,\n",
        "dataset_validation = validation,\n",
        "tag_scheme = tag_scheme, \n",
        "tag_outside = 'O',\n",
        "transformer = transformer,\n",
        "dropout = dropout,\n",
        "hyperparameters = training_hyperparameters\n",
        ")"
      ],
      "execution_count": null,
      "outputs": []
    },
    {
      "cell_type": "code",
      "metadata": {
        "id": "kEEXszh-p5-y",
        "colab": {
          "base_uri": "https://localhost:8080/"
        },
        "outputId": "255b7f80-6e56-4bf1-ffed-ef2f23a7bc90"
      },
      "source": [
        "import tensorflow as tf\n",
        "with tf.device('/device:GPU:0'):\n",
        "  model.train()"
      ],
      "execution_count": null,
      "outputs": [
        {
          "output_type": "stream",
          "name": "stdout",
          "text": [
            "\n",
            " Epoch 1 / 1\n"
          ]
        },
        {
          "output_type": "stream",
          "name": "stderr",
          "text": [
            " 41%|████      | 444/1080 [04:41<06:40,  1.59it/s]"
          ]
        }
      ]
    },
    {
      "cell_type": "code",
      "metadata": {
        "colab": {
          "base_uri": "https://localhost:8080/",
          "height": 447
        },
        "id": "B25lmBQ2pYHc",
        "outputId": "8f943f92-206e-417a-af39-82b3a6f0733f"
      },
      "source": [
        "test = get_conll_data('test')\n",
        "model.evaluate_performance(test)\n",
        "# model.predict_text('Cristiano Ronaldo plays for Juventus FC')"
      ],
      "execution_count": null,
      "outputs": [
        {
          "output_type": "stream",
          "text": [
            "/usr/local/lib/python3.7/dist-packages/NERDA/preprocessing.py:75: UserWarning: Sentence #202 length 139 exceeds max_len 128 and has been truncated\n",
            "  warnings.warn(msg)\n",
            "/usr/local/lib/python3.7/dist-packages/NERDA/performance.py:39: UserWarning: length of observed values exceeded lengths of predicted values in 1 cases and were truncated. _Consider_ increasing max_len parameter for your model.\n",
            "  warnings.warn(f'length of observed values exceeded lengths of predicted values in {n_exceeds} cases and were truncated. _Consider_ increasing max_len parameter for your model.')\n"
          ],
          "name": "stderr"
        },
        {
          "output_type": "execute_result",
          "data": {
            "text/html": [
              "<div>\n",
              "<style scoped>\n",
              "    .dataframe tbody tr th:only-of-type {\n",
              "        vertical-align: middle;\n",
              "    }\n",
              "\n",
              "    .dataframe tbody tr th {\n",
              "        vertical-align: top;\n",
              "    }\n",
              "\n",
              "    .dataframe thead th {\n",
              "        text-align: right;\n",
              "    }\n",
              "</style>\n",
              "<table border=\"1\" class=\"dataframe\">\n",
              "  <thead>\n",
              "    <tr style=\"text-align: right;\">\n",
              "      <th></th>\n",
              "      <th>Level</th>\n",
              "      <th>F1-Score</th>\n",
              "    </tr>\n",
              "  </thead>\n",
              "  <tbody>\n",
              "    <tr>\n",
              "      <th>0</th>\n",
              "      <td>B-PER</td>\n",
              "      <td>0.954588</td>\n",
              "    </tr>\n",
              "    <tr>\n",
              "      <th>1</th>\n",
              "      <td>I-PER</td>\n",
              "      <td>0.980138</td>\n",
              "    </tr>\n",
              "    <tr>\n",
              "      <th>2</th>\n",
              "      <td>B-ORG</td>\n",
              "      <td>0.861188</td>\n",
              "    </tr>\n",
              "    <tr>\n",
              "      <th>3</th>\n",
              "      <td>I-ORG</td>\n",
              "      <td>0.821770</td>\n",
              "    </tr>\n",
              "    <tr>\n",
              "      <th>4</th>\n",
              "      <td>B-LOC</td>\n",
              "      <td>0.911738</td>\n",
              "    </tr>\n",
              "    <tr>\n",
              "      <th>5</th>\n",
              "      <td>I-LOC</td>\n",
              "      <td>0.811765</td>\n",
              "    </tr>\n",
              "    <tr>\n",
              "      <th>6</th>\n",
              "      <td>B-MISC</td>\n",
              "      <td>0.817329</td>\n",
              "    </tr>\n",
              "    <tr>\n",
              "      <th>7</th>\n",
              "      <td>I-MISC</td>\n",
              "      <td>0.673820</td>\n",
              "    </tr>\n",
              "    <tr>\n",
              "      <th>0</th>\n",
              "      <td>AVG_MICRO</td>\n",
              "      <td>0.892424</td>\n",
              "    </tr>\n",
              "    <tr>\n",
              "      <th>0</th>\n",
              "      <td>AVG_MACRO</td>\n",
              "      <td>0.854042</td>\n",
              "    </tr>\n",
              "  </tbody>\n",
              "</table>\n",
              "</div>"
            ],
            "text/plain": [
              "       Level  F1-Score\n",
              "0      B-PER  0.954588\n",
              "1      I-PER  0.980138\n",
              "2      B-ORG  0.861188\n",
              "3      I-ORG  0.821770\n",
              "4      B-LOC  0.911738\n",
              "5      I-LOC  0.811765\n",
              "6     B-MISC  0.817329\n",
              "7     I-MISC  0.673820\n",
              "0  AVG_MICRO  0.892424\n",
              "0  AVG_MACRO  0.854042"
            ]
          },
          "metadata": {
            "tags": []
          },
          "execution_count": 38
        }
      ]
    }
  ]
}